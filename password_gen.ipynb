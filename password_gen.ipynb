{
  "nbformat": 4,
  "nbformat_minor": 0,
  "metadata": {
    "colab": {
      "name": "password gen",
      "version": "0.3.2",
      "provenance": [],
      "collapsed_sections": []
    },
    "kernelspec": {
      "name": "python3",
      "display_name": "Python 3"
    }
  },
  "cells": [
    {
      "metadata": {
        "id": "fFd5s9RwIXiJ",
        "colab_type": "text"
      },
      "cell_type": "markdown",
      "source": [
        "# Password generator\n",
        "\n",
        "Use NLTK to generate a 2 word password with a 3 digit number. Use only rare words. "
      ]
    },
    {
      "metadata": {
        "id": "0aXLGXsAl7vS",
        "colab_type": "code",
        "outputId": "7cac8088-5077-450a-bd14-3c9d20a138b2",
        "colab": {
          "base_uri": "https://localhost:8080/",
          "height": 384
        }
      },
      "cell_type": "code",
      "source": [
        "import numpy as np\n",
        "import re\n",
        "import nltk\n",
        "nltk.download('gutenberg')\n",
        "# from nltk.book import text1\n",
        "from nltk.corpus import gutenberg\n",
        "nltk.corpus.gutenberg.fileids()\n",
        "\n"
      ],
      "execution_count": 2,
      "outputs": [
        {
          "output_type": "stream",
          "text": [
            "[nltk_data] Downloading package gutenberg to /root/nltk_data...\n",
            "[nltk_data]   Unzipping corpora/gutenberg.zip.\n"
          ],
          "name": "stdout"
        },
        {
          "output_type": "execute_result",
          "data": {
            "text/plain": [
              "['austen-emma.txt',\n",
              " 'austen-persuasion.txt',\n",
              " 'austen-sense.txt',\n",
              " 'bible-kjv.txt',\n",
              " 'blake-poems.txt',\n",
              " 'bryant-stories.txt',\n",
              " 'burgess-busterbrown.txt',\n",
              " 'carroll-alice.txt',\n",
              " 'chesterton-ball.txt',\n",
              " 'chesterton-brown.txt',\n",
              " 'chesterton-thursday.txt',\n",
              " 'edgeworth-parents.txt',\n",
              " 'melville-moby_dick.txt',\n",
              " 'milton-paradise.txt',\n",
              " 'shakespeare-caesar.txt',\n",
              " 'shakespeare-hamlet.txt',\n",
              " 'shakespeare-macbeth.txt',\n",
              " 'whitman-leaves.txt']"
            ]
          },
          "metadata": {
            "tags": []
          },
          "execution_count": 2
        }
      ]
    },
    {
      "metadata": {
        "id": "37YX7gbAm46S",
        "colab_type": "code",
        "outputId": "448fdc19-18f5-4ec5-d4f3-a676e9efc1e0",
        "colab": {
          "base_uri": "https://localhost:8080/",
          "height": 35
        }
      },
      "cell_type": "code",
      "source": [
        "# read in moby dick\n",
        "md = nltk.corpus.gutenberg.words('melville-moby_dick.txt')\n",
        "len(md)"
      ],
      "execution_count": 3,
      "outputs": [
        {
          "output_type": "execute_result",
          "data": {
            "text/plain": [
              "260819"
            ]
          },
          "metadata": {
            "tags": []
          },
          "execution_count": 3
        }
      ]
    },
    {
      "metadata": {
        "id": "CkCTBcwynMu9",
        "colab_type": "code",
        "colab": {}
      },
      "cell_type": "code",
      "source": [
        "# frequency table\n",
        "\n",
        "fd = nltk.FreqDist(md)"
      ],
      "execution_count": 0,
      "outputs": []
    },
    {
      "metadata": {
        "id": "MueR2YuCnvNt",
        "colab_type": "code",
        "colab": {}
      },
      "cell_type": "code",
      "source": [
        "# regex [A-Z](a-z)+\n",
        "\n",
        "words = list(fd.keys())"
      ],
      "execution_count": 0,
      "outputs": []
    },
    {
      "metadata": {
        "id": "lgtEPZxRocZh",
        "colab_type": "code",
        "outputId": "bad0d085-3a70-43f0-9df5-c5618f2da932",
        "colab": {
          "base_uri": "https://localhost:8080/",
          "height": 35
        }
      },
      "cell_type": "code",
      "source": [
        "pat = r'[A-Z][a-z]{3,}'\n",
        "re.match(pat, 'Aber Dirk')"
      ],
      "execution_count": 6,
      "outputs": [
        {
          "output_type": "execute_result",
          "data": {
            "text/plain": [
              "<_sre.SRE_Match object; span=(0, 4), match='Aber'>"
            ]
          },
          "metadata": {
            "tags": []
          },
          "execution_count": 6
        }
      ]
    },
    {
      "metadata": {
        "id": "MuS-lZ15o-4p",
        "colab_type": "code",
        "colab": {}
      },
      "cell_type": "code",
      "source": [
        "words2 = [w for w in words if re.match(pat, w) is not None]"
      ],
      "execution_count": 0,
      "outputs": []
    },
    {
      "metadata": {
        "id": "4-W0KJZOpJRv",
        "colab_type": "code",
        "outputId": "f8ab3a03-635d-41f6-f943-9768e341c0a3",
        "colab": {
          "base_uri": "https://localhost:8080/",
          "height": 35
        }
      },
      "cell_type": "code",
      "source": [
        "# filter out too frequent\n",
        "\n",
        "q90 = np.percentile(np.array(list(fd.values())), 90)\n",
        "q90"
      ],
      "execution_count": 8,
      "outputs": [
        {
          "output_type": "execute_result",
          "data": {
            "text/plain": [
              "11.0"
            ]
          },
          "metadata": {
            "tags": []
          },
          "execution_count": 8
        }
      ]
    },
    {
      "metadata": {
        "id": "BQi0zfvcpvxI",
        "colab_type": "code",
        "outputId": "78f7ef46-e0be-4822-81ad-61a73178e000",
        "colab": {
          "base_uri": "https://localhost:8080/",
          "height": 35
        }
      },
      "cell_type": "code",
      "source": [
        "words3 = [w for w in words2 if fd[w] < q90]\n",
        "len(words3)"
      ],
      "execution_count": 9,
      "outputs": [
        {
          "output_type": "execute_result",
          "data": {
            "text/plain": [
              "2391"
            ]
          },
          "metadata": {
            "tags": []
          },
          "execution_count": 9
        }
      ]
    },
    {
      "metadata": {
        "id": "2MotrWgsp8cl",
        "colab_type": "code",
        "outputId": "28c2d50d-0e72-4625-87e6-0f366006c871",
        "colab": {
          "base_uri": "https://localhost:8080/",
          "height": 35
        }
      },
      "cell_type": "code",
      "source": [
        "def gen():\n",
        "  sel = np.random.choice(words3, 2, replace=False)\n",
        "  num = np.random.choice(np.arange(100, 1000), 1, replace=True)[0]\n",
        "  return sel[0] + sel[1] + str(num)\n",
        "\n",
        "gen()"
      ],
      "execution_count": 10,
      "outputs": [
        {
          "output_type": "execute_result",
          "data": {
            "text/plain": [
              "'IsraelHarris260'"
            ]
          },
          "metadata": {
            "tags": []
          },
          "execution_count": 10
        }
      ]
    },
    {
      "metadata": {
        "id": "N-XMc-q7JDCN",
        "colab_type": "code",
        "colab": {
          "base_uri": "https://localhost:8080/",
          "height": 35
        },
        "outputId": "72eb0ba1-7b39-45c6-bdd1-32e0ee4e0efc"
      },
      "cell_type": "code",
      "source": [
        "# possibilities\n",
        "\n",
        "N = len(words3)\n",
        "N * (N - 1) * 900"
      ],
      "execution_count": 11,
      "outputs": [
        {
          "output_type": "execute_result",
          "data": {
            "text/plain": [
              "5143041000"
            ]
          },
          "metadata": {
            "tags": []
          },
          "execution_count": 11
        }
      ]
    },
    {
      "metadata": {
        "id": "jA6IzlC0I8sU",
        "colab_type": "text"
      },
      "cell_type": "markdown",
      "source": [
        "Obviously if the hacker has the same approach, he could mine your password."
      ]
    }
  ]
}