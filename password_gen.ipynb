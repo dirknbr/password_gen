{
  "nbformat": 4,
  "nbformat_minor": 0,
  "metadata": {
    "colab": {
      "name": "password gen",
      "version": "0.3.2",
      "provenance": [],
      "collapsed_sections": []
    },
    "kernelspec": {
      "name": "python3",
      "display_name": "Python 3"
    }
  },
  "cells": [
    {
      "metadata": {
        "id": "fFd5s9RwIXiJ",
        "colab_type": "text"
      },
      "cell_type": "markdown",
      "source": [
        "# Password generator\n",
        "\n",
        "Use NLTK to generate a 2 word password with a 3 digit number. Use only rare words. "
      ]
    },
    {
      "metadata": {
        "id": "0aXLGXsAl7vS",
        "colab_type": "code",
        "outputId": "220f9933-0b38-4dfb-f588-bb0114905bb3",
        "colab": {
          "base_uri": "https://localhost:8080/",
          "height": 384
        }
      },
      "cell_type": "code",
      "source": [
        "import numpy as np\n",
        "import re\n",
        "import nltk\n",
        "nltk.download('gutenberg')\n",
        "# from nltk.book import text1\n",
        "from nltk.corpus import gutenberg\n",
        "nltk.corpus.gutenberg.fileids()\n",
        "\n"
      ],
      "execution_count": 12,
      "outputs": [
        {
          "output_type": "stream",
          "text": [
            "[nltk_data] Downloading package gutenberg to /root/nltk_data...\n",
            "[nltk_data]   Package gutenberg is already up-to-date!\n"
          ],
          "name": "stdout"
        },
        {
          "output_type": "execute_result",
          "data": {
            "text/plain": [
              "['austen-emma.txt',\n",
              " 'austen-persuasion.txt',\n",
              " 'austen-sense.txt',\n",
              " 'bible-kjv.txt',\n",
              " 'blake-poems.txt',\n",
              " 'bryant-stories.txt',\n",
              " 'burgess-busterbrown.txt',\n",
              " 'carroll-alice.txt',\n",
              " 'chesterton-ball.txt',\n",
              " 'chesterton-brown.txt',\n",
              " 'chesterton-thursday.txt',\n",
              " 'edgeworth-parents.txt',\n",
              " 'melville-moby_dick.txt',\n",
              " 'milton-paradise.txt',\n",
              " 'shakespeare-caesar.txt',\n",
              " 'shakespeare-hamlet.txt',\n",
              " 'shakespeare-macbeth.txt',\n",
              " 'whitman-leaves.txt']"
            ]
          },
          "metadata": {
            "tags": []
          },
          "execution_count": 12
        }
      ]
    },
    {
      "metadata": {
        "id": "37YX7gbAm46S",
        "colab_type": "code",
        "outputId": "53018b2d-fb00-49a3-d662-c4e025fded0b",
        "colab": {
          "base_uri": "https://localhost:8080/",
          "height": 35
        }
      },
      "cell_type": "code",
      "source": [
        "# read in moby dick\n",
        "md = nltk.corpus.gutenberg.words('melville-moby_dick.txt')\n",
        "len(md)"
      ],
      "execution_count": 13,
      "outputs": [
        {
          "output_type": "execute_result",
          "data": {
            "text/plain": [
              "260819"
            ]
          },
          "metadata": {
            "tags": []
          },
          "execution_count": 13
        }
      ]
    },
    {
      "metadata": {
        "id": "CkCTBcwynMu9",
        "colab_type": "code",
        "colab": {}
      },
      "cell_type": "code",
      "source": [
        "# frequency table\n",
        "\n",
        "fd = nltk.FreqDist(md)"
      ],
      "execution_count": 0,
      "outputs": []
    },
    {
      "metadata": {
        "id": "MueR2YuCnvNt",
        "colab_type": "code",
        "colab": {}
      },
      "cell_type": "code",
      "source": [
        "\n",
        "words = list(fd.keys())"
      ],
      "execution_count": 0,
      "outputs": []
    },
    {
      "metadata": {
        "id": "lgtEPZxRocZh",
        "colab_type": "code",
        "outputId": "4882fc9d-280d-4ba9-9052-85fdf5605498",
        "colab": {
          "base_uri": "https://localhost:8080/",
          "height": 35
        }
      },
      "cell_type": "code",
      "source": [
        "# regex [A-Z](a-z)3+ we ensure a min length of 4+4+3=11\n",
        "\n",
        "pat = r'[A-Z][a-z]{3,}'\n",
        "re.match(pat, 'Aber Dirk')"
      ],
      "execution_count": 16,
      "outputs": [
        {
          "output_type": "execute_result",
          "data": {
            "text/plain": [
              "<_sre.SRE_Match object; span=(0, 4), match='Aber'>"
            ]
          },
          "metadata": {
            "tags": []
          },
          "execution_count": 16
        }
      ]
    },
    {
      "metadata": {
        "id": "MuS-lZ15o-4p",
        "colab_type": "code",
        "colab": {}
      },
      "cell_type": "code",
      "source": [
        "words2 = [w for w in words if re.match(pat, w) is not None]"
      ],
      "execution_count": 0,
      "outputs": []
    },
    {
      "metadata": {
        "id": "4-W0KJZOpJRv",
        "colab_type": "code",
        "outputId": "ad79a79a-19d9-4b87-a86f-754813d4560b",
        "colab": {
          "base_uri": "https://localhost:8080/",
          "height": 35
        }
      },
      "cell_type": "code",
      "source": [
        "# filter out too frequent\n",
        "\n",
        "q90 = np.percentile(np.array(list(fd.values())), 90)\n",
        "q90"
      ],
      "execution_count": 18,
      "outputs": [
        {
          "output_type": "execute_result",
          "data": {
            "text/plain": [
              "11.0"
            ]
          },
          "metadata": {
            "tags": []
          },
          "execution_count": 18
        }
      ]
    },
    {
      "metadata": {
        "id": "BQi0zfvcpvxI",
        "colab_type": "code",
        "outputId": "49ab081b-eae8-4858-ddfd-9523d24f73e0",
        "colab": {
          "base_uri": "https://localhost:8080/",
          "height": 35
        }
      },
      "cell_type": "code",
      "source": [
        "words3 = [w for w in words2 if fd[w] < q90]\n",
        "len(words3)"
      ],
      "execution_count": 19,
      "outputs": [
        {
          "output_type": "execute_result",
          "data": {
            "text/plain": [
              "2391"
            ]
          },
          "metadata": {
            "tags": []
          },
          "execution_count": 19
        }
      ]
    },
    {
      "metadata": {
        "id": "2MotrWgsp8cl",
        "colab_type": "code",
        "outputId": "1df2553f-1a8c-40d3-be2f-7d9027f7687f",
        "colab": {
          "base_uri": "https://localhost:8080/",
          "height": 35
        }
      },
      "cell_type": "code",
      "source": [
        "def gen():\n",
        "  sel = np.random.choice(words3, 2, replace=False)\n",
        "  num = np.random.choice(np.arange(100, 1000), 1, replace=True)[0]\n",
        "  return sel[0] + sel[1] + str(num)\n",
        "\n",
        "gen()"
      ],
      "execution_count": 20,
      "outputs": [
        {
          "output_type": "execute_result",
          "data": {
            "text/plain": [
              "'BettySouthern711'"
            ]
          },
          "metadata": {
            "tags": []
          },
          "execution_count": 20
        }
      ]
    },
    {
      "metadata": {
        "id": "N-XMc-q7JDCN",
        "colab_type": "code",
        "colab": {
          "base_uri": "https://localhost:8080/",
          "height": 35
        },
        "outputId": "6cc66ed0-6c82-4688-d09f-6bd75385fdc6"
      },
      "cell_type": "code",
      "source": [
        "# possibilities\n",
        "\n",
        "N = len(words3)\n",
        "N * (N - 1) * 900"
      ],
      "execution_count": 21,
      "outputs": [
        {
          "output_type": "execute_result",
          "data": {
            "text/plain": [
              "5143041000"
            ]
          },
          "metadata": {
            "tags": []
          },
          "execution_count": 21
        }
      ]
    },
    {
      "metadata": {
        "id": "jA6IzlC0I8sU",
        "colab_type": "text"
      },
      "cell_type": "markdown",
      "source": [
        "Obviously if the hacker has the same approach, he could mine your password."
      ]
    }
  ]
}
